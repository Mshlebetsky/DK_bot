{
 "cells": [
  {
   "cell_type": "code",
   "execution_count": null,
   "id": "544811a7",
   "metadata": {},
   "outputs": [],
   "source": []
  },
  {
   "cell_type": "code",
   "execution_count": 2,
   "id": "3416294a",
   "metadata": {},
   "outputs": [],
   "source": [
    "from selenium import webdriver\n",
    "from selenium.webdriver.chrome.options import Options\n",
    "import time\n",
    "import selenium\n",
    "from selenium.webdriver import Chrome\n",
    "from selenium.webdriver import Firefox\n",
    "from selenium.webdriver.common.by import By\n",
    "from selenium.webdriver.common.keys import Keys\n",
    "\n",
    "url = \"https://xn----8sbknn9c9d.xn--p1ai/afisha/\"\n",
    "\n",
    "options = Options()\n",
    "#     options.add_argument(\"--headless=new\")\n",
    "#     options.add_argument(\"--no-sandbox\")\n",
    "options.add_argument(\"--disable-dev-shm-usage\")\n",
    "options.add_argument(\"--disable-gpu\")\n",
    "options.add_argument(\"--window-size=1920,1080\")\n",
    "options.add_argument(\n",
    "    \"user-agent=Mozilla/5.0 (Windows NT 10.0; Win64; x64) \"\n",
    "    \"AppleWebKit/537.36 (KHTML, like Gecko) \"\n",
    "    \"Chrome/120.0.0.0 Safari/537.36\"\n",
    ")\n",
    "\n",
    "driver = webdriver.Chrome(options=options)\n",
    "driver.get(url)\n",
    "time.sleep(4)\n",
    "\n",
    "driver.execute_script(\"window.scrollTo(0, document.body.scrollHeight)\")\n"
   ]
  },
  {
   "cell_type": "code",
   "execution_count": 3,
   "id": "f36b45cf",
   "metadata": {},
   "outputs": [],
   "source": [
    "data = {}\n",
    "error_counter = 0\n",
    "items = driver.find_element(By.CLASS_NAME, 'tabs-content').find_element(By.CLASS_NAME, 'flex').find_elements(\n",
    "    By.CLASS_NAME, 'b-event__slide-item')\n",
    "driver.execute_script(\"arguments[0].scrollIntoView(true);\", items[0])\n",
    "time.sleep(2)"
   ]
  },
  {
   "cell_type": "code",
   "execution_count": 10,
   "id": "2ffd9e58",
   "metadata": {},
   "outputs": [
    {
     "name": "stdout",
     "output_type": "stream",
     "text": [
      "ПЛАТНО\n",
      "ПЛАТНО\n",
      "ПЛАТНО\n",
      "ПЛАТНО\n",
      "ПЛАТНО\n",
      "ПЛАТНО\n",
      "ПЛАТНО\n",
      "БЕСПЛАТНО\n",
      "ПЛАТНО\n",
      "ПЛАТНО\n",
      "ПЛАТНО\n",
      "ПЛАТНО\n",
      "БЕСПЛАТНО\n",
      "ПЛАТНО\n",
      "ПЛАТНО\n",
      "ПЛАТНО\n",
      "ПЛАТНО\n",
      "ПЛАТНО\n",
      "ПЛАТНО\n",
      "ПЛАТНО\n",
      "ПЛАТНО\n",
      "ПЛАТНО\n",
      "ПЛАТНО\n",
      "ПЛАТНО\n",
      "ПЛАТНО\n",
      "ПЛАТНО\n",
      "ПЛАТНО\n",
      "ПЛАТНО\n",
      "ПЛАТНО\n",
      "ПЛАТНО\n",
      "ПЛАТНО\n",
      "ПЛАТНО\n",
      "ПЛАТНО\n"
     ]
    }
   ],
   "source": [
    "for item in items:\n",
    "    driver.find_element(By.TAG_NAME, 'body').send_keys(Keys.ESCAPE)\n",
    "    driver.execute_script(\"arguments[0].scrollIntoView(true);\", item)\n",
    "    time.sleep(1)\n",
    "    try:\n",
    "        is_free = item.find_element(By.CLASS_NAME,'text-is-payable').text\n",
    "        print(is_free)\n",
    "    except:\n",
    "        print('error')\n",
    "#     try:\n",
    "#         item.find_elements(By.TAG_NAME, 'a')[0].click()\n",
    "#     except Exception as e:\n",
    "#         print('error')\n",
    "#         error_text += f'{e}\\n'\n",
    "#         continue\n",
    "    time.sleep(2)"
   ]
  },
  {
   "cell_type": "code",
   "execution_count": 12,
   "id": "9c103bd9",
   "metadata": {},
   "outputs": [
    {
     "data": {
      "text/plain": [
       "True"
      ]
     },
     "execution_count": 12,
     "metadata": {},
     "output_type": "execute_result"
    }
   ],
   "source": [
    "is_free.lower() == 'платно'"
   ]
  },
  {
   "cell_type": "code",
   "execution_count": null,
   "id": "b446cf1b",
   "metadata": {},
   "outputs": [],
   "source": []
  },
  {
   "cell_type": "code",
   "execution_count": null,
   "id": "de7ff89c",
   "metadata": {},
   "outputs": [],
   "source": []
  },
  {
   "cell_type": "code",
   "execution_count": null,
   "id": "ef7fd50d",
   "metadata": {},
   "outputs": [],
   "source": []
  },
  {
   "cell_type": "code",
   "execution_count": null,
   "id": "6c5a0c18",
   "metadata": {},
   "outputs": [],
   "source": []
  }
 ],
 "metadata": {
  "kernelspec": {
   "display_name": "Python 3 (ipykernel)",
   "language": "python",
   "name": "python3"
  },
  "language_info": {
   "codemirror_mode": {
    "name": "ipython",
    "version": 3
   },
   "file_extension": ".py",
   "mimetype": "text/x-python",
   "name": "python",
   "nbconvert_exporter": "python",
   "pygments_lexer": "ipython3",
   "version": "3.9.12"
  }
 },
 "nbformat": 4,
 "nbformat_minor": 5
}
