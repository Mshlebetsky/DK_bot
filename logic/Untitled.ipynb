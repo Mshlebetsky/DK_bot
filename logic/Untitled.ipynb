{
 "cells": [
  {
   "cell_type": "code",
   "execution_count": 1,
   "id": "3a6c7d70",
   "metadata": {},
   "outputs": [],
   "source": [
    "from selenium import webdriver\n",
    "from selenium.webdriver.chrome.options import Options\n",
    "import time\n",
    "import selenium\n",
    "from selenium.webdriver import Chrome\n",
    "from selenium.webdriver import Firefox\n",
    "from selenium.webdriver.common.by import By\n",
    "from selenium.webdriver.common.keys import Keys\n",
    "\n",
    "\n",
    "\n",
    "def update_all_studios():\n",
    "    url = \"https://xn----8sbknn9c9d.xn--p1ai/afisha/\"\n",
    "\n",
    "    options = Options()\n",
    "    #     options.add_argument(\"--headless=new\")\n",
    "    #     options.add_argument(\"--no-sandbox\")\n",
    "    options.add_argument(\"--disable-dev-shm-usage\")\n",
    "    options.add_argument(\"--disable-gpu\")\n",
    "    options.add_argument(\"--window-size=1920,1080\")\n",
    "    options.add_argument(\n",
    "        \"user-agent=Mozilla/5.0 (Windows NT 10.0; Win64; x64) \"\n",
    "        \"AppleWebKit/537.36 (KHTML, like Gecko) \"\n",
    "        \"Chrome/120.0.0.0 Safari/537.36\"\n",
    "    )\n",
    "\n",
    "    driver = webdriver.Chrome(options=options)\n",
    "    driver.get(url)\n",
    "    time.sleep(4)\n",
    "\n",
    "    driver.execute_script(\"window.scrollTo(0, document.body.scrollHeight)\")\n",
    "    time.sleep(4)\n",
    "\n",
    "\n",
    "\n",
    "    return data, text"
   ]
  },
  {
   "cell_type": "code",
   "execution_count": 26,
   "id": "e79cb6da",
   "metadata": {},
   "outputs": [],
   "source": [
    "url = \"https://xn----8sbknn9c9d.xn--p1ai/afisha/\"\n",
    "\n",
    "options = Options()\n",
    "#     options.add_argument(\"--headless=new\")\n",
    "#     options.add_argument(\"--no-sandbox\")\n",
    "options.add_argument(\"--disable-dev-shm-usage\")\n",
    "options.add_argument(\"--disable-gpu\")\n",
    "options.add_argument(\"--window-size=1920,1080\")\n",
    "options.add_argument(\n",
    "    \"user-agent=Mozilla/5.0 (Windows NT 10.0; Win64; x64) \"\n",
    "    \"AppleWebKit/537.36 (KHTML, like Gecko) \"\n",
    "    \"Chrome/120.0.0.0 Safari/537.36\"\n",
    ")\n",
    "\n",
    "driver = webdriver.Chrome(options=options)\n",
    "driver.get(url)\n",
    "time.sleep(4)\n",
    "\n",
    "driver.execute_script(\"window.scrollTo(0, document.body.scrollHeight)\")\n",
    "time.sleep(4)\n",
    "\n"
   ]
  },
  {
   "cell_type": "code",
   "execution_count": 49,
   "id": "a9fd912d",
   "metadata": {},
   "outputs": [
    {
     "name": "stdout",
     "output_type": "stream",
     "text": [
      "\n",
      "\n",
      "\n",
      "\n",
      "\n"
     ]
    },
    {
     "ename": "ElementClickInterceptedException",
     "evalue": "Message: element click intercepted: Element <a href=\"javascript:;\" data-iblock=\"8\" data-id=\"22466\" class=\"b-event__slide-image js-load-info\">...</a> is not clickable at point (778, 772). Other element would receive the click: <jdiv class=\"hoverArea__FCyjW\">...</jdiv>\n  (Session info: chrome=139.0.7258.139)\nStacktrace:\n\tGetHandleVerifier [0x0x7ff6458278d5+2802741]\n\tGetHandleVerifier [0x0x7ff64558eb70+79568]\n\t(No symbol) [0x0x7ff64532c0fa]\n\t(No symbol) [0x0x7ff64538aaa9]\n\t(No symbol) [0x0x7ff645388442]\n\t(No symbol) [0x0x7ff645385481]\n\t(No symbol) [0x0x7ff645384371]\n\t(No symbol) [0x0x7ff645375bb8]\n\t(No symbol) [0x0x7ff6453aac8a]\n\t(No symbol) [0x0x7ff645375466]\n\t(No symbol) [0x0x7ff6453aaea0]\n\t(No symbol) [0x0x7ff6453d2e24]\n\t(No symbol) [0x0x7ff6453aaa63]\n\t(No symbol) [0x0x7ff645373c91]\n\t(No symbol) [0x0x7ff645374a23]\n\tGetHandleVerifier [0x0x7ff645852ced+2979917]\n\tGetHandleVerifier [0x0x7ff64584d0f3+2956371]\n\tGetHandleVerifier [0x0x7ff64586acbd+3078173]\n\tGetHandleVerifier [0x0x7ff6455a836e+184014]\n\tGetHandleVerifier [0x0x7ff6455b024f+216495]\n\tGetHandleVerifier [0x0x7ff6455970c4+113700]\n\tGetHandleVerifier [0x0x7ff645597279+114137]\n\tGetHandleVerifier [0x0x7ff64557df78+10968]\n\tBaseThreadInitThunk [0x0x7ff99ba8e8d7+23]\n\tRtlUserThreadStart [0x0x7ff99c27c34c+44]\n",
     "output_type": "error",
     "traceback": [
      "\u001b[1;31m---------------------------------------------------------------------------\u001b[0m",
      "\u001b[1;31mElementClickInterceptedException\u001b[0m          Traceback (most recent call last)",
      "Input \u001b[1;32mIn [49]\u001b[0m, in \u001b[0;36m<cell line: 4>\u001b[1;34m()\u001b[0m\n\u001b[0;32m      5\u001b[0m driver\u001b[38;5;241m.\u001b[39mfind_element(By\u001b[38;5;241m.\u001b[39mTAG_NAME,\u001b[38;5;124m'\u001b[39m\u001b[38;5;124mbody\u001b[39m\u001b[38;5;124m'\u001b[39m)\u001b[38;5;241m.\u001b[39msend_keys(Keys\u001b[38;5;241m.\u001b[39mESCAPE)\n\u001b[0;32m      7\u001b[0m time\u001b[38;5;241m.\u001b[39msleep(\u001b[38;5;241m2\u001b[39m)\n\u001b[1;32m----> 9\u001b[0m \u001b[43mitem\u001b[49m\u001b[38;5;241;43m.\u001b[39;49m\u001b[43mfind_elements\u001b[49m\u001b[43m(\u001b[49m\u001b[43mBy\u001b[49m\u001b[38;5;241;43m.\u001b[39;49m\u001b[43mTAG_NAME\u001b[49m\u001b[43m,\u001b[49m\u001b[38;5;124;43m'\u001b[39;49m\u001b[38;5;124;43ma\u001b[39;49m\u001b[38;5;124;43m'\u001b[39;49m\u001b[43m)\u001b[49m\u001b[43m[\u001b[49m\u001b[38;5;241;43m0\u001b[39;49m\u001b[43m]\u001b[49m\u001b[38;5;241;43m.\u001b[39;49m\u001b[43mclick\u001b[49m\u001b[43m(\u001b[49m\u001b[43m)\u001b[49m\n\u001b[0;32m     11\u001b[0m time\u001b[38;5;241m.\u001b[39msleep(\u001b[38;5;241m2\u001b[39m)\n\u001b[0;32m     13\u001b[0m name \u001b[38;5;241m=\u001b[39m driver\u001b[38;5;241m.\u001b[39mfind_element(By\u001b[38;5;241m.\u001b[39mID,\u001b[38;5;124m'\u001b[39m\u001b[38;5;124mhidden-content-2\u001b[39m\u001b[38;5;124m'\u001b[39m)\u001b[38;5;241m.\u001b[39mfind_element(By\u001b[38;5;241m.\u001b[39mCLASS_NAME,\u001b[38;5;124m'\u001b[39m\u001b[38;5;124mtitle\u001b[39m\u001b[38;5;124m'\u001b[39m)\u001b[38;5;241m.\u001b[39mtext\n",
      "File \u001b[1;32m~\\anaconda3\\lib\\site-packages\\selenium\\webdriver\\remote\\webelement.py:94\u001b[0m, in \u001b[0;36mWebElement.click\u001b[1;34m(self)\u001b[0m\n\u001b[0;32m     92\u001b[0m \u001b[38;5;28;01mdef\u001b[39;00m \u001b[38;5;21mclick\u001b[39m(\u001b[38;5;28mself\u001b[39m) \u001b[38;5;241m-\u001b[39m\u001b[38;5;241m>\u001b[39m \u001b[38;5;28;01mNone\u001b[39;00m:\n\u001b[0;32m     93\u001b[0m     \u001b[38;5;124;03m\"\"\"Clicks the element.\"\"\"\u001b[39;00m\n\u001b[1;32m---> 94\u001b[0m     \u001b[38;5;28;43mself\u001b[39;49m\u001b[38;5;241;43m.\u001b[39;49m\u001b[43m_execute\u001b[49m\u001b[43m(\u001b[49m\u001b[43mCommand\u001b[49m\u001b[38;5;241;43m.\u001b[39;49m\u001b[43mCLICK_ELEMENT\u001b[49m\u001b[43m)\u001b[49m\n",
      "File \u001b[1;32m~\\anaconda3\\lib\\site-packages\\selenium\\webdriver\\remote\\webelement.py:395\u001b[0m, in \u001b[0;36mWebElement._execute\u001b[1;34m(self, command, params)\u001b[0m\n\u001b[0;32m    393\u001b[0m     params \u001b[38;5;241m=\u001b[39m {}\n\u001b[0;32m    394\u001b[0m params[\u001b[38;5;124m\"\u001b[39m\u001b[38;5;124mid\u001b[39m\u001b[38;5;124m\"\u001b[39m] \u001b[38;5;241m=\u001b[39m \u001b[38;5;28mself\u001b[39m\u001b[38;5;241m.\u001b[39m_id\n\u001b[1;32m--> 395\u001b[0m \u001b[38;5;28;01mreturn\u001b[39;00m \u001b[38;5;28;43mself\u001b[39;49m\u001b[38;5;241;43m.\u001b[39;49m\u001b[43m_parent\u001b[49m\u001b[38;5;241;43m.\u001b[39;49m\u001b[43mexecute\u001b[49m\u001b[43m(\u001b[49m\u001b[43mcommand\u001b[49m\u001b[43m,\u001b[49m\u001b[43m \u001b[49m\u001b[43mparams\u001b[49m\u001b[43m)\u001b[49m\n",
      "File \u001b[1;32m~\\anaconda3\\lib\\site-packages\\selenium\\webdriver\\remote\\webdriver.py:354\u001b[0m, in \u001b[0;36mWebDriver.execute\u001b[1;34m(self, driver_command, params)\u001b[0m\n\u001b[0;32m    352\u001b[0m response \u001b[38;5;241m=\u001b[39m \u001b[38;5;28mself\u001b[39m\u001b[38;5;241m.\u001b[39mcommand_executor\u001b[38;5;241m.\u001b[39mexecute(driver_command, params)\n\u001b[0;32m    353\u001b[0m \u001b[38;5;28;01mif\u001b[39;00m response:\n\u001b[1;32m--> 354\u001b[0m     \u001b[38;5;28;43mself\u001b[39;49m\u001b[38;5;241;43m.\u001b[39;49m\u001b[43merror_handler\u001b[49m\u001b[38;5;241;43m.\u001b[39;49m\u001b[43mcheck_response\u001b[49m\u001b[43m(\u001b[49m\u001b[43mresponse\u001b[49m\u001b[43m)\u001b[49m\n\u001b[0;32m    355\u001b[0m     response[\u001b[38;5;124m\"\u001b[39m\u001b[38;5;124mvalue\u001b[39m\u001b[38;5;124m\"\u001b[39m] \u001b[38;5;241m=\u001b[39m \u001b[38;5;28mself\u001b[39m\u001b[38;5;241m.\u001b[39m_unwrap_value(response\u001b[38;5;241m.\u001b[39mget(\u001b[38;5;124m\"\u001b[39m\u001b[38;5;124mvalue\u001b[39m\u001b[38;5;124m\"\u001b[39m, \u001b[38;5;28;01mNone\u001b[39;00m))\n\u001b[0;32m    356\u001b[0m     \u001b[38;5;28;01mreturn\u001b[39;00m response\n",
      "File \u001b[1;32m~\\anaconda3\\lib\\site-packages\\selenium\\webdriver\\remote\\errorhandler.py:229\u001b[0m, in \u001b[0;36mErrorHandler.check_response\u001b[1;34m(self, response)\u001b[0m\n\u001b[0;32m    227\u001b[0m         alert_text \u001b[38;5;241m=\u001b[39m value[\u001b[38;5;124m\"\u001b[39m\u001b[38;5;124malert\u001b[39m\u001b[38;5;124m\"\u001b[39m]\u001b[38;5;241m.\u001b[39mget(\u001b[38;5;124m\"\u001b[39m\u001b[38;5;124mtext\u001b[39m\u001b[38;5;124m\"\u001b[39m)\n\u001b[0;32m    228\u001b[0m     \u001b[38;5;28;01mraise\u001b[39;00m exception_class(message, screen, stacktrace, alert_text)  \u001b[38;5;66;03m# type: ignore[call-arg]  # mypy is not smart enough here\u001b[39;00m\n\u001b[1;32m--> 229\u001b[0m \u001b[38;5;28;01mraise\u001b[39;00m exception_class(message, screen, stacktrace)\n",
      "\u001b[1;31mElementClickInterceptedException\u001b[0m: Message: element click intercepted: Element <a href=\"javascript:;\" data-iblock=\"8\" data-id=\"22466\" class=\"b-event__slide-image js-load-info\">...</a> is not clickable at point (778, 772). Other element would receive the click: <jdiv class=\"hoverArea__FCyjW\">...</jdiv>\n  (Session info: chrome=139.0.7258.139)\nStacktrace:\n\tGetHandleVerifier [0x0x7ff6458278d5+2802741]\n\tGetHandleVerifier [0x0x7ff64558eb70+79568]\n\t(No symbol) [0x0x7ff64532c0fa]\n\t(No symbol) [0x0x7ff64538aaa9]\n\t(No symbol) [0x0x7ff645388442]\n\t(No symbol) [0x0x7ff645385481]\n\t(No symbol) [0x0x7ff645384371]\n\t(No symbol) [0x0x7ff645375bb8]\n\t(No symbol) [0x0x7ff6453aac8a]\n\t(No symbol) [0x0x7ff645375466]\n\t(No symbol) [0x0x7ff6453aaea0]\n\t(No symbol) [0x0x7ff6453d2e24]\n\t(No symbol) [0x0x7ff6453aaa63]\n\t(No symbol) [0x0x7ff645373c91]\n\t(No symbol) [0x0x7ff645374a23]\n\tGetHandleVerifier [0x0x7ff645852ced+2979917]\n\tGetHandleVerifier [0x0x7ff64584d0f3+2956371]\n\tGetHandleVerifier [0x0x7ff64586acbd+3078173]\n\tGetHandleVerifier [0x0x7ff6455a836e+184014]\n\tGetHandleVerifier [0x0x7ff6455b024f+216495]\n\tGetHandleVerifier [0x0x7ff6455970c4+113700]\n\tGetHandleVerifier [0x0x7ff645597279+114137]\n\tGetHandleVerifier [0x0x7ff64557df78+10968]\n\tBaseThreadInitThunk [0x0x7ff99ba8e8d7+23]\n\tRtlUserThreadStart [0x0x7ff99c27c34c+44]\n"
     ]
    }
   ],
   "source": [
    "import time\n",
    "# data = []\n",
    "items = driver.find_element(By.CLASS_NAME,'tabs-content').find_element(By.CLASS_NAME,'flex').find_elements(By.CLASS_NAME,'b-event__slide-item')\n",
    "for item in items:\n",
    "    driver.find_element(By.TAG_NAME,'body').send_keys(Keys.ESCAPE)\n",
    "    \n",
    "    time.sleep(2)\n",
    "    \n",
    "    item.find_elements(By.TAG_NAME,'a')[0].click()\n",
    "    \n",
    "    time.sleep(2)\n",
    "    \n",
    "    name = driver.find_element(By.ID,'hidden-content-2').find_element(By.CLASS_NAME,'title').text\n",
    "    event_date = driver.find_element(By.ID,'hidden-content-2').find_element(By.CLASS_NAME,'modal_more_calendar').find_element(By.TAG_NAME,'span').text\n",
    "    description = driver.find_element(By.ID,'hidden-content-2').find_element(By.CLASS_NAME,'modal_more_text').text\n",
    "    event_time = driver.find_element(By.ID,'hidden-content-2').find_element(By.CLASS_NAME,'modal_more_time').find_element(By.TAG_NAME,'span').text\n",
    "    img = driver.find_element(By.ID,'hidden-content-2').find_element(By.CLASS_NAME,'modal_more_image').find_element(By.TAG_NAME,'img').get_attribute('src')\n",
    "#     link = driver.find_element(By.ID,'hidden-content-2').\n",
    "    print(f'')"
   ]
  },
  {
   "cell_type": "code",
   "execution_count": null,
   "id": "41e6b779",
   "metadata": {},
   "outputs": [],
   "source": []
  },
  {
   "cell_type": "code",
   "execution_count": null,
   "id": "30bd9dce",
   "metadata": {},
   "outputs": [],
   "source": []
  }
 ],
 "metadata": {
  "kernelspec": {
   "display_name": "Python 3 (ipykernel)",
   "language": "python",
   "name": "python3"
  },
  "language_info": {
   "codemirror_mode": {
    "name": "ipython",
    "version": 3
   },
   "file_extension": ".py",
   "mimetype": "text/x-python",
   "name": "python",
   "nbconvert_exporter": "python",
   "pygments_lexer": "ipython3",
   "version": "3.9.12"
  }
 },
 "nbformat": 4,
 "nbformat_minor": 5
}
